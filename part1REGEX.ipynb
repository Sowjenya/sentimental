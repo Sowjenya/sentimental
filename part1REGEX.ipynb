{
 "cells": [
  {
   "cell_type": "code",
   "execution_count": 1,
   "id": "76c1e9c8-6150-469c-88f0-de257654fcf9",
   "metadata": {},
   "outputs": [],
   "source": [
    "import re"
   ]
  },
  {
   "cell_type": "code",
   "execution_count": 3,
   "id": "788057cd-6862-4318-b80c-71eeaa6fb0d1",
   "metadata": {},
   "outputs": [
    {
     "data": {
      "text/plain": [
       "{'orders': [{'id': 1},\n",
       "  {'id': 2},\n",
       "  {'id': 3},\n",
       "  {'id': 4},\n",
       "  {'id': 5},\n",
       "  {'id': 6},\n",
       "  {'id': 7},\n",
       "  {'id': 8},\n",
       "  {'id': 9},\n",
       "  {'id': 10},\n",
       "  {'id': 11},\n",
       "  {'id': 648},\n",
       "  {'id': 649},\n",
       "  {'id': 650},\n",
       "  {'id': 651},\n",
       "  {'id': 652},\n",
       "  {'id': 653}],\n",
       " 'errors': [{'code': 3,\n",
       "   'message': '[PHP Warning #2] count(): Parameter must be an array or an object that implements Countable (153)'}]}"
      ]
     },
     "execution_count": 3,
     "metadata": {},
     "output_type": "execute_result"
    }
   ],
   "source": [
    "\n",
    "data={\"orders\":[{\"id\":1},{\"id\":2},{\"id\":3},{\"id\":4},{\"id\":5},{\"id\":6},{\"id\":7},{\"id\":8},{\"id\":9},{\"id\":10},{\"id\":11},{\"id\":648},{\"id\":649},{\"id\":650},{\"id\":651},{\"id\":652},{\"id\":653}],\"errors\":[{\"code\":3,\"message\":\"[PHP Warning #2] count(): Parameter must be an array or an object that implements Countable (153)\"}]}\n"
   ]
  },
  {
   "cell_type": "code",
   "execution_count": 11,
   "id": "d7d6a7b2-4d75-4d04-a6d7-1c40e5b376ac",
   "metadata": {},
   "outputs": [],
   "source": [
    "extract=re.findall(r'\\s[0-9]+',str(data))"
   ]
  },
  {
   "cell_type": "code",
   "execution_count": 12,
   "id": "ba4388d2-0272-4207-9045-a1b355b09fdf",
   "metadata": {},
   "outputs": [
    {
     "data": {
      "text/plain": [
       "[' 1',\n",
       " ' 2',\n",
       " ' 3',\n",
       " ' 4',\n",
       " ' 5',\n",
       " ' 6',\n",
       " ' 7',\n",
       " ' 8',\n",
       " ' 9',\n",
       " ' 10',\n",
       " ' 11',\n",
       " ' 648',\n",
       " ' 649',\n",
       " ' 650',\n",
       " ' 651',\n",
       " ' 652',\n",
       " ' 653',\n",
       " ' 3']"
      ]
     },
     "execution_count": 12,
     "metadata": {},
     "output_type": "execute_result"
    }
   ],
   "source": [
    "extract"
   ]
  },
  {
   "cell_type": "code",
   "execution_count": null,
   "id": "730958e5-24dc-464b-88c4-82428331cb2c",
   "metadata": {},
   "outputs": [],
   "source": []
  }
 ],
 "metadata": {
  "kernelspec": {
   "display_name": "Python 3 (ipykernel)",
   "language": "python",
   "name": "python3"
  },
  "language_info": {
   "codemirror_mode": {
    "name": "ipython",
    "version": 3
   },
   "file_extension": ".py",
   "mimetype": "text/x-python",
   "name": "python",
   "nbconvert_exporter": "python",
   "pygments_lexer": "ipython3",
   "version": "3.10.4"
  }
 },
 "nbformat": 4,
 "nbformat_minor": 5
}
