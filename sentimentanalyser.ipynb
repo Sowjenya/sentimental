{
 "cells": [
  {
   "cell_type": "code",
   "execution_count": 1,
   "id": "9de14047-8371-4713-a430-2f72097f047b",
   "metadata": {},
   "outputs": [],
   "source": [
    "import numpy as np\n"
   ]
  },
  {
   "cell_type": "code",
   "execution_count": 2,
   "id": "646129ca-cfac-4dd2-b229-9799c31bd832",
   "metadata": {},
   "outputs": [],
   "source": [
    "import pandas as pd"
   ]
  },
  {
   "cell_type": "code",
   "execution_count": 3,
   "id": "147fe966-5af0-476e-9356-5527738064d2",
   "metadata": {},
   "outputs": [],
   "source": [
    "import os"
   ]
  },
  {
   "cell_type": "code",
   "execution_count": 5,
   "id": "ea28d5f9-6932-43f9-8856-24b59827d21c",
   "metadata": {},
   "outputs": [],
   "source": [
    "from nltk.sentiment.vader import SentimentIntensityAnalyzer"
   ]
  },
  {
   "cell_type": "code",
   "execution_count": 9,
   "id": "08115ba1-9351-486a-a41f-5c6798fde0b6",
   "metadata": {},
   "outputs": [],
   "source": [
    "import re"
   ]
  },
  {
   "cell_type": "code",
   "execution_count": 10,
   "id": "764b2c4c-4274-403a-b590-af84373d1554",
   "metadata": {},
   "outputs": [],
   "source": [
    "from nltk.stem import WordNetLemmatizer"
   ]
  },
  {
   "cell_type": "code",
   "execution_count": 11,
   "id": "f1be7999-0a0f-431a-acc0-3763889bfc89",
   "metadata": {},
   "outputs": [],
   "source": [
    "from textblob import TextBlob"
   ]
  },
  {
   "cell_type": "code",
   "execution_count": 12,
   "id": "8ede3512-c077-4d0a-b44e-671344f06c3b",
   "metadata": {
    "tags": []
   },
   "outputs": [],
   "source": [
    "lemmatizer = WordNetLemmatizer()"
   ]
  },
  {
   "cell_type": "code",
   "execution_count": 15,
   "id": "004edbfb-3da9-4ebe-bc81-312d43241534",
   "metadata": {},
   "outputs": [],
   "source": [
    "import pip"
   ]
  },
  {
   "cell_type": "code",
   "execution_count": 19,
   "id": "a3a47e31-22b9-4858-af8d-65fe51c168d1",
   "metadata": {},
   "outputs": [
    {
     "name": "stderr",
     "output_type": "stream",
     "text": [
      "[nltk_data] Downloading package stopwords to\n",
      "[nltk_data]     C:\\Users\\sowjenya\\AppData\\Roaming\\nltk_data...\n",
      "[nltk_data]   Unzipping corpora\\stopwords.zip.\n"
     ]
    },
    {
     "data": {
      "text/plain": [
       "True"
      ]
     },
     "execution_count": 19,
     "metadata": {},
     "output_type": "execute_result"
    }
   ],
   "source": [
    "import nltk\n",
    "nltk.download('stopwords')"
   ]
  },
  {
   "cell_type": "code",
   "execution_count": 20,
   "id": "1deb65b3-12aa-4632-8667-e7204e92f0b6",
   "metadata": {},
   "outputs": [],
   "source": [
    "from nltk.corpus import stopwords"
   ]
  },
  {
   "cell_type": "code",
   "execution_count": 54,
   "id": "90e8a3b4-ef69-4868-b7fb-3646b154e2f9",
   "metadata": {},
   "outputs": [],
   "source": [
    "var=stopwords.words('english')"
   ]
  },
  {
   "cell_type": "code",
   "execution_count": 55,
   "id": "0d3ae303-2a55-47ee-85c6-530547a2363e",
   "metadata": {},
   "outputs": [],
   "source": [
    "var.remove('not')"
   ]
  },
  {
   "cell_type": "code",
   "execution_count": 58,
   "id": "d182d3ab-c914-4cbf-93e3-4c2e1f3a166b",
   "metadata": {},
   "outputs": [],
   "source": [
    "data = pd.read_csv('C:\\\\Users\\\\sowjenya\\\\Downloads\\\\chrome_reviews.csv')"
   ]
  },
  {
   "cell_type": "code",
   "execution_count": 59,
   "id": "32af101e-5b4f-4a88-82eb-8bbddfb933f7",
   "metadata": {},
   "outputs": [
    {
     "data": {
      "text/html": [
       "<div>\n",
       "<style scoped>\n",
       "    .dataframe tbody tr th:only-of-type {\n",
       "        vertical-align: middle;\n",
       "    }\n",
       "\n",
       "    .dataframe tbody tr th {\n",
       "        vertical-align: top;\n",
       "    }\n",
       "\n",
       "    .dataframe thead th {\n",
       "        text-align: right;\n",
       "    }\n",
       "</style>\n",
       "<table border=\"1\" class=\"dataframe\">\n",
       "  <thead>\n",
       "    <tr style=\"text-align: right;\">\n",
       "      <th></th>\n",
       "      <th>ID</th>\n",
       "      <th>Review URL</th>\n",
       "      <th>Text</th>\n",
       "      <th>Star</th>\n",
       "      <th>Thumbs Up</th>\n",
       "      <th>User Name</th>\n",
       "      <th>Developer Reply</th>\n",
       "      <th>Version</th>\n",
       "      <th>Review Date</th>\n",
       "      <th>App ID</th>\n",
       "    </tr>\n",
       "  </thead>\n",
       "  <tbody>\n",
       "    <tr>\n",
       "      <th>0</th>\n",
       "      <td>3886</td>\n",
       "      <td>https://play.google.com/store/apps/details?id=...</td>\n",
       "      <td>This is very helpfull aap.</td>\n",
       "      <td>5</td>\n",
       "      <td>0</td>\n",
       "      <td>INDIAN Knowledge</td>\n",
       "      <td>NaN</td>\n",
       "      <td>83.0.4103.106</td>\n",
       "      <td>2020-12-19</td>\n",
       "      <td>com.android.chrome</td>\n",
       "    </tr>\n",
       "    <tr>\n",
       "      <th>1</th>\n",
       "      <td>3887</td>\n",
       "      <td>https://play.google.com/store/apps/details?id=...</td>\n",
       "      <td>Good</td>\n",
       "      <td>3</td>\n",
       "      <td>2</td>\n",
       "      <td>Ijeoma Happiness</td>\n",
       "      <td>NaN</td>\n",
       "      <td>85.0.4183.127</td>\n",
       "      <td>2020-12-19</td>\n",
       "      <td>com.android.chrome</td>\n",
       "    </tr>\n",
       "    <tr>\n",
       "      <th>2</th>\n",
       "      <td>3888</td>\n",
       "      <td>https://play.google.com/store/apps/details?id=...</td>\n",
       "      <td>Not able to update. Neither able to uninstall.</td>\n",
       "      <td>1</td>\n",
       "      <td>0</td>\n",
       "      <td>Priti D BtCFs-29</td>\n",
       "      <td>NaN</td>\n",
       "      <td>85.0.4183.127</td>\n",
       "      <td>2020-12-19</td>\n",
       "      <td>com.android.chrome</td>\n",
       "    </tr>\n",
       "    <tr>\n",
       "      <th>3</th>\n",
       "      <td>3889</td>\n",
       "      <td>https://play.google.com/store/apps/details?id=...</td>\n",
       "      <td>Nice app</td>\n",
       "      <td>4</td>\n",
       "      <td>0</td>\n",
       "      <td>Ajeet Raja</td>\n",
       "      <td>NaN</td>\n",
       "      <td>77.0.3865.116</td>\n",
       "      <td>2020-12-19</td>\n",
       "      <td>com.android.chrome</td>\n",
       "    </tr>\n",
       "    <tr>\n",
       "      <th>4</th>\n",
       "      <td>3890</td>\n",
       "      <td>https://play.google.com/store/apps/details?id=...</td>\n",
       "      <td>Many unwanted ads</td>\n",
       "      <td>1</td>\n",
       "      <td>0</td>\n",
       "      <td>Rams Mp</td>\n",
       "      <td>NaN</td>\n",
       "      <td>87.0.4280.66</td>\n",
       "      <td>2020-12-19</td>\n",
       "      <td>com.android.chrome</td>\n",
       "    </tr>\n",
       "  </tbody>\n",
       "</table>\n",
       "</div>"
      ],
      "text/plain": [
       "     ID                                         Review URL  \\\n",
       "0  3886  https://play.google.com/store/apps/details?id=...   \n",
       "1  3887  https://play.google.com/store/apps/details?id=...   \n",
       "2  3888  https://play.google.com/store/apps/details?id=...   \n",
       "3  3889  https://play.google.com/store/apps/details?id=...   \n",
       "4  3890  https://play.google.com/store/apps/details?id=...   \n",
       "\n",
       "                                             Text  Star  Thumbs Up  \\\n",
       "0                      This is very helpfull aap.     5          0   \n",
       "1                                            Good     3          2   \n",
       "2  Not able to update. Neither able to uninstall.     1          0   \n",
       "3                                        Nice app     4          0   \n",
       "4                               Many unwanted ads     1          0   \n",
       "\n",
       "          User Name Developer Reply        Version Review Date  \\\n",
       "0  INDIAN Knowledge             NaN  83.0.4103.106  2020-12-19   \n",
       "1  Ijeoma Happiness             NaN  85.0.4183.127  2020-12-19   \n",
       "2  Priti D BtCFs-29             NaN  85.0.4183.127  2020-12-19   \n",
       "3        Ajeet Raja             NaN  77.0.3865.116  2020-12-19   \n",
       "4           Rams Mp             NaN   87.0.4280.66  2020-12-19   \n",
       "\n",
       "               App ID  \n",
       "0  com.android.chrome  \n",
       "1  com.android.chrome  \n",
       "2  com.android.chrome  \n",
       "3  com.android.chrome  \n",
       "4  com.android.chrome  "
      ]
     },
     "execution_count": 59,
     "metadata": {},
     "output_type": "execute_result"
    }
   ],
   "source": [
    "data.head()"
   ]
  },
  {
   "cell_type": "code",
   "execution_count": 60,
   "id": "e5045aa5-012c-4544-90a7-9e529026b9d1",
   "metadata": {},
   "outputs": [],
   "source": [
    "clean_text =[]"
   ]
  },
  {
   "cell_type": "code",
   "execution_count": 68,
   "id": "c85dc1e4-a4e3-41b2-81fa-ae6cb998fb49",
   "metadata": {},
   "outputs": [
    {
     "name": "stderr",
     "output_type": "stream",
     "text": [
      "[nltk_data] Downloading package punkt to\n",
      "[nltk_data]     C:\\Users\\sowjenya\\AppData\\Roaming\\nltk_data...\n",
      "[nltk_data]   Package punkt is already up-to-date!\n",
      "[nltk_data] Downloading package wordnet to\n",
      "[nltk_data]     C:\\Users\\sowjenya\\AppData\\Roaming\\nltk_data...\n",
      "[nltk_data]   Package wordnet is already up-to-date!\n",
      "[nltk_data] Downloading package omw-1.4 to\n",
      "[nltk_data]     C:\\Users\\sowjenya\\AppData\\Roaming\\nltk_data...\n",
      "[nltk_data]   Unzipping corpora\\omw-1.4.zip.\n"
     ]
    },
    {
     "data": {
      "text/plain": [
       "True"
      ]
     },
     "execution_count": 68,
     "metadata": {},
     "output_type": "execute_result"
    }
   ],
   "source": [
    "import nltk\n",
    "nltk.download('punkt')\n",
    "import nltk\n",
    "nltk.download('wordnet')\n",
    "import nltk\n",
    "nltk.download('omw-1.4')"
   ]
  },
  {
   "cell_type": "code",
   "execution_count": 69,
   "id": "4aaa240d-f86d-4a54-bc43-0969e345ac49",
   "metadata": {},
   "outputs": [],
   "source": [
    "clean_text =[]\n",
    "for review in data['Text']:\n",
    "    review= re.sub(r'[^\\w\\s]', '', str(review))\n",
    "    review = re.sub(r'\\d','',review)\n",
    "    review_token = word_tokenize(review.lower().strip())\n",
    "    review_without_stopwords=[]\n",
    "    for token in review_token:\n",
    "        if token not in var:\n",
    "            token= lemmatizer.lemmatize(token)\n",
    "            review_without_stopwords.append(token)\n",
    "    cleaned_review = \" \".join(review_without_stopwords)\n",
    "    clean_text.append(cleaned_review)"
   ]
  },
  {
   "cell_type": "code",
   "execution_count": 89,
   "id": "e3ce9319-a0a0-43b4-95d8-7982c4be248d",
   "metadata": {},
   "outputs": [
    {
     "name": "stderr",
     "output_type": "stream",
     "text": [
      "[nltk_data] Downloading package vader_lexicon to\n",
      "[nltk_data]     C:\\Users\\sowjenya\\AppData\\Roaming\\nltk_data...\n",
      "[nltk_data]   Package vader_lexicon is already up-to-date!\n"
     ]
    },
    {
     "data": {
      "text/plain": [
       "True"
      ]
     },
     "execution_count": 89,
     "metadata": {},
     "output_type": "execute_result"
    }
   ],
   "source": [
    "data[\"cleaned_review\"] = clean_text\n",
    "Single_star_reviews = data[data.Star ==1]\n",
    "import nltk\n",
    "nltk.download('vader_lexicon')"
   ]
  },
  {
   "cell_type": "code",
   "execution_count": 86,
   "id": "e9ce10df-51cc-44c5-9d4c-f3c9c6f6419c",
   "metadata": {},
   "outputs": [
    {
     "name": "stderr",
     "output_type": "stream",
     "text": [
      "C:\\Users\\sowjenya\\AppData\\Local\\Temp\\ipykernel_10876\\2661387653.py:12: SettingWithCopyWarning: \n",
      "A value is trying to be set on a copy of a slice from a DataFrame.\n",
      "Try using .loc[row_indexer,col_indexer] = value instead\n",
      "\n",
      "See the caveats in the documentation: https://pandas.pydata.org/pandas-docs/stable/user_guide/indexing.html#returning-a-view-versus-a-copy\n",
      "  Single_star_reviews[\"sentiment\"]= senti_list\n"
     ]
    }
   ],
   "source": [
    "sia = SentimentIntensityAnalyzer()\n",
    "senti_list = []\n",
    "\n",
    "for i in Single_star_reviews[\"Text\"]:\n",
    "    score = sia.polarity_scores(i)\n",
    "    blob_score = TextBlob(i).sentiment.polarity\n",
    "    if (score['pos'] >= 0.5):\n",
    "        senti_list.append('Positive')\n",
    "    else:\n",
    "        senti_list.append('Negative/Neutral')\n",
    "        \n",
    "Single_star_reviews[\"sentiment\"]= senti_list"
   ]
  },
  {
   "cell_type": "code",
   "execution_count": 75,
   "id": "36f9369e-1361-4340-84c9-355b89ba5426",
   "metadata": {},
   "outputs": [
    {
     "data": {
      "text/html": [
       "<div>\n",
       "<style scoped>\n",
       "    .dataframe tbody tr th:only-of-type {\n",
       "        vertical-align: middle;\n",
       "    }\n",
       "\n",
       "    .dataframe tbody tr th {\n",
       "        vertical-align: top;\n",
       "    }\n",
       "\n",
       "    .dataframe thead th {\n",
       "        text-align: right;\n",
       "    }\n",
       "</style>\n",
       "<table border=\"1\" class=\"dataframe\">\n",
       "  <thead>\n",
       "    <tr style=\"text-align: right;\">\n",
       "      <th></th>\n",
       "      <th>ID</th>\n",
       "      <th>Review URL</th>\n",
       "      <th>Text</th>\n",
       "      <th>Star</th>\n",
       "      <th>Thumbs Up</th>\n",
       "      <th>User Name</th>\n",
       "      <th>Developer Reply</th>\n",
       "      <th>Version</th>\n",
       "      <th>Review Date</th>\n",
       "      <th>App ID</th>\n",
       "      <th>cleaned_review</th>\n",
       "      <th>sentiment</th>\n",
       "    </tr>\n",
       "  </thead>\n",
       "  <tbody>\n",
       "    <tr>\n",
       "      <th>2</th>\n",
       "      <td>3888</td>\n",
       "      <td>https://play.google.com/store/apps/details?id=...</td>\n",
       "      <td>Not able to update. Neither able to uninstall.</td>\n",
       "      <td>1</td>\n",
       "      <td>0</td>\n",
       "      <td>Priti D BtCFs-29</td>\n",
       "      <td>NaN</td>\n",
       "      <td>85.0.4183.127</td>\n",
       "      <td>2020-12-19</td>\n",
       "      <td>com.android.chrome</td>\n",
       "      <td>not able update neither able uninstall</td>\n",
       "      <td>Negative/Neutral</td>\n",
       "    </tr>\n",
       "    <tr>\n",
       "      <th>4</th>\n",
       "      <td>3890</td>\n",
       "      <td>https://play.google.com/store/apps/details?id=...</td>\n",
       "      <td>Many unwanted ads</td>\n",
       "      <td>1</td>\n",
       "      <td>0</td>\n",
       "      <td>Rams Mp</td>\n",
       "      <td>NaN</td>\n",
       "      <td>87.0.4280.66</td>\n",
       "      <td>2020-12-19</td>\n",
       "      <td>com.android.chrome</td>\n",
       "      <td>many unwanted ad</td>\n",
       "      <td>Negative/Neutral</td>\n",
       "    </tr>\n",
       "    <tr>\n",
       "      <th>8</th>\n",
       "      <td>3894</td>\n",
       "      <td>https://play.google.com/store/apps/details?id=...</td>\n",
       "      <td>Very bad app 😞</td>\n",
       "      <td>1</td>\n",
       "      <td>0</td>\n",
       "      <td>Akshat Bhardwaj</td>\n",
       "      <td>NaN</td>\n",
       "      <td>78.0.3904.96</td>\n",
       "      <td>2020-12-19</td>\n",
       "      <td>com.android.chrome</td>\n",
       "      <td>bad app</td>\n",
       "      <td>Negative/Neutral</td>\n",
       "    </tr>\n",
       "    <tr>\n",
       "      <th>9</th>\n",
       "      <td>3895</td>\n",
       "      <td>https://play.google.com/store/apps/details?id=...</td>\n",
       "      <td>Many times I tried to update its not updating....</td>\n",
       "      <td>1</td>\n",
       "      <td>0</td>\n",
       "      <td>Aditi Rathor</td>\n",
       "      <td>NaN</td>\n",
       "      <td>86.0.4240.198</td>\n",
       "      <td>2020-12-19</td>\n",
       "      <td>com.android.chrome</td>\n",
       "      <td>many time tried update not updating whenever t...</td>\n",
       "      <td>Negative/Neutral</td>\n",
       "    </tr>\n",
       "    <tr>\n",
       "      <th>12</th>\n",
       "      <td>3898</td>\n",
       "      <td>https://play.google.com/store/apps/details?id=...</td>\n",
       "      <td>App is not getting update and it is not gettin...</td>\n",
       "      <td>1</td>\n",
       "      <td>0</td>\n",
       "      <td>Daksh Gulati</td>\n",
       "      <td>NaN</td>\n",
       "      <td>83.0.4103.106</td>\n",
       "      <td>2020-12-19</td>\n",
       "      <td>com.android.chrome</td>\n",
       "      <td>app not getting update not getting open saying...</td>\n",
       "      <td>Negative/Neutral</td>\n",
       "    </tr>\n",
       "  </tbody>\n",
       "</table>\n",
       "</div>"
      ],
      "text/plain": [
       "      ID                                         Review URL  \\\n",
       "2   3888  https://play.google.com/store/apps/details?id=...   \n",
       "4   3890  https://play.google.com/store/apps/details?id=...   \n",
       "8   3894  https://play.google.com/store/apps/details?id=...   \n",
       "9   3895  https://play.google.com/store/apps/details?id=...   \n",
       "12  3898  https://play.google.com/store/apps/details?id=...   \n",
       "\n",
       "                                                 Text  Star  Thumbs Up  \\\n",
       "2      Not able to update. Neither able to uninstall.     1          0   \n",
       "4                                   Many unwanted ads     1          0   \n",
       "8                                      Very bad app 😞     1          0   \n",
       "9   Many times I tried to update its not updating....     1          0   \n",
       "12  App is not getting update and it is not gettin...     1          0   \n",
       "\n",
       "           User Name Developer Reply        Version Review Date  \\\n",
       "2   Priti D BtCFs-29             NaN  85.0.4183.127  2020-12-19   \n",
       "4            Rams Mp             NaN   87.0.4280.66  2020-12-19   \n",
       "8    Akshat Bhardwaj             NaN   78.0.3904.96  2020-12-19   \n",
       "9       Aditi Rathor             NaN  86.0.4240.198  2020-12-19   \n",
       "12      Daksh Gulati             NaN  83.0.4103.106  2020-12-19   \n",
       "\n",
       "                App ID                                     cleaned_review  \\\n",
       "2   com.android.chrome             not able update neither able uninstall   \n",
       "4   com.android.chrome                                   many unwanted ad   \n",
       "8   com.android.chrome                                            bad app   \n",
       "9   com.android.chrome  many time tried update not updating whenever t...   \n",
       "12  com.android.chrome  app not getting update not getting open saying...   \n",
       "\n",
       "           sentiment  \n",
       "2   Negative/Neutral  \n",
       "4   Negative/Neutral  \n",
       "8   Negative/Neutral  \n",
       "9   Negative/Neutral  \n",
       "12  Negative/Neutral  "
      ]
     },
     "execution_count": 75,
     "metadata": {},
     "output_type": "execute_result"
    }
   ],
   "source": [
    "Single_star_reviews.head()"
   ]
  },
  {
   "cell_type": "code",
   "execution_count": 77,
   "id": "e3cd66bd-0a0f-4873-9170-1418d0739552",
   "metadata": {},
   "outputs": [],
   "source": [
    "positive_review_with_1_star = Single_star_reviews[Single_star_reviews.sentiment == 'Positive']"
   ]
  },
  {
   "cell_type": "code",
   "execution_count": 78,
   "id": "29d30b25-eac7-4889-ae2e-4315aa99d96c",
   "metadata": {},
   "outputs": [
    {
     "name": "stderr",
     "output_type": "stream",
     "text": [
      "C:\\Users\\sowjenya\\AppData\\Local\\Temp\\ipykernel_10876\\1784252689.py:1: SettingWithCopyWarning: \n",
      "A value is trying to be set on a copy of a slice from a DataFrame\n",
      "\n",
      "See the caveats in the documentation: https://pandas.pydata.org/pandas-docs/stable/user_guide/indexing.html#returning-a-view-versus-a-copy\n",
      "  positive_review_with_1_star.drop(\"cleaned_review\",axis = 1,inplace=True)\n"
     ]
    }
   ],
   "source": [
    "positive_review_with_1_star.drop(\"cleaned_review\",axis = 1,inplace=True)"
   ]
  },
  {
   "cell_type": "code",
   "execution_count": 87,
   "id": "12c56eaa-3e84-401c-9848-b518eb35ac2e",
   "metadata": {},
   "outputs": [
    {
     "data": {
      "text/html": [
       "<div>\n",
       "<style scoped>\n",
       "    .dataframe tbody tr th:only-of-type {\n",
       "        vertical-align: middle;\n",
       "    }\n",
       "\n",
       "    .dataframe tbody tr th {\n",
       "        vertical-align: top;\n",
       "    }\n",
       "\n",
       "    .dataframe thead th {\n",
       "        text-align: right;\n",
       "    }\n",
       "</style>\n",
       "<table border=\"1\" class=\"dataframe\">\n",
       "  <thead>\n",
       "    <tr style=\"text-align: right;\">\n",
       "      <th></th>\n",
       "      <th>ID</th>\n",
       "      <th>Review URL</th>\n",
       "      <th>Text</th>\n",
       "      <th>Star</th>\n",
       "      <th>Thumbs Up</th>\n",
       "      <th>User Name</th>\n",
       "      <th>Developer Reply</th>\n",
       "      <th>Version</th>\n",
       "      <th>Review Date</th>\n",
       "      <th>App ID</th>\n",
       "      <th>sentiment</th>\n",
       "    </tr>\n",
       "  </thead>\n",
       "  <tbody>\n",
       "    <tr>\n",
       "      <th>101</th>\n",
       "      <td>4113</td>\n",
       "      <td>https://play.google.com/store/apps/details?id=...</td>\n",
       "      <td>Good</td>\n",
       "      <td>1</td>\n",
       "      <td>0</td>\n",
       "      <td>Sohail Soomro</td>\n",
       "      <td>NaN</td>\n",
       "      <td>74.0.3729.136</td>\n",
       "      <td>2020-12-21</td>\n",
       "      <td>com.android.chrome</td>\n",
       "      <td>Positive</td>\n",
       "    </tr>\n",
       "    <tr>\n",
       "      <th>158</th>\n",
       "      <td>4143</td>\n",
       "      <td>https://play.google.com/store/apps/details?id=...</td>\n",
       "      <td>Good</td>\n",
       "      <td>1</td>\n",
       "      <td>0</td>\n",
       "      <td>Md Rubel khan</td>\n",
       "      <td>NaN</td>\n",
       "      <td>NaN</td>\n",
       "      <td>2020-12-21</td>\n",
       "      <td>com.android.chrome</td>\n",
       "      <td>Positive</td>\n",
       "    </tr>\n",
       "    <tr>\n",
       "      <th>291</th>\n",
       "      <td>5251</td>\n",
       "      <td>https://play.google.com/store/apps/details?id=...</td>\n",
       "      <td>Ok</td>\n",
       "      <td>1</td>\n",
       "      <td>0</td>\n",
       "      <td>Rajesh Prabhu</td>\n",
       "      <td>NaN</td>\n",
       "      <td>76.0.3809.111</td>\n",
       "      <td>2020-12-21</td>\n",
       "      <td>com.android.chrome</td>\n",
       "      <td>Positive</td>\n",
       "    </tr>\n",
       "    <tr>\n",
       "      <th>310</th>\n",
       "      <td>5842</td>\n",
       "      <td>https://play.google.com/store/apps/details?id=...</td>\n",
       "      <td>Best</td>\n",
       "      <td>1</td>\n",
       "      <td>0</td>\n",
       "      <td>Vasava Govindbhai</td>\n",
       "      <td>NaN</td>\n",
       "      <td>67.0.3396.87</td>\n",
       "      <td>2020-12-22</td>\n",
       "      <td>com.android.chrome</td>\n",
       "      <td>Positive</td>\n",
       "    </tr>\n",
       "    <tr>\n",
       "      <th>312</th>\n",
       "      <td>5844</td>\n",
       "      <td>https://play.google.com/store/apps/details?id=...</td>\n",
       "      <td>Good</td>\n",
       "      <td>1</td>\n",
       "      <td>0</td>\n",
       "      <td>Prem Kumar</td>\n",
       "      <td>NaN</td>\n",
       "      <td>80.0.3987.99</td>\n",
       "      <td>2020-12-22</td>\n",
       "      <td>com.android.chrome</td>\n",
       "      <td>Positive</td>\n",
       "    </tr>\n",
       "  </tbody>\n",
       "</table>\n",
       "</div>"
      ],
      "text/plain": [
       "       ID                                         Review URL  Text  Star  \\\n",
       "101  4113  https://play.google.com/store/apps/details?id=...  Good     1   \n",
       "158  4143  https://play.google.com/store/apps/details?id=...  Good     1   \n",
       "291  5251  https://play.google.com/store/apps/details?id=...    Ok     1   \n",
       "310  5842  https://play.google.com/store/apps/details?id=...  Best     1   \n",
       "312  5844  https://play.google.com/store/apps/details?id=...  Good     1   \n",
       "\n",
       "     Thumbs Up          User Name Developer Reply        Version Review Date  \\\n",
       "101          0      Sohail Soomro             NaN  74.0.3729.136  2020-12-21   \n",
       "158          0      Md Rubel khan             NaN            NaN  2020-12-21   \n",
       "291          0      Rajesh Prabhu             NaN  76.0.3809.111  2020-12-21   \n",
       "310          0  Vasava Govindbhai             NaN   67.0.3396.87  2020-12-22   \n",
       "312          0         Prem Kumar             NaN   80.0.3987.99  2020-12-22   \n",
       "\n",
       "                 App ID sentiment  \n",
       "101  com.android.chrome  Positive  \n",
       "158  com.android.chrome  Positive  \n",
       "291  com.android.chrome  Positive  \n",
       "310  com.android.chrome  Positive  \n",
       "312  com.android.chrome  Positive  "
      ]
     },
     "execution_count": 87,
     "metadata": {},
     "output_type": "execute_result"
    }
   ],
   "source": [
    "positive_review_with_1_star.head()"
   ]
  },
  {
   "cell_type": "code",
   "execution_count": 88,
   "id": "e740d8a7-dd6c-4aaf-b4e5-00592ebffde8",
   "metadata": {
    "tags": []
   },
   "outputs": [],
   "source": [
    "positive_review_with_1_star.to_csv('output.csv')"
   ]
  }
 ],
 "metadata": {
  "kernelspec": {
   "display_name": "Python 3 (ipykernel)",
   "language": "python",
   "name": "python3"
  },
  "language_info": {
   "codemirror_mode": {
    "name": "ipython",
    "version": 3
   },
   "file_extension": ".py",
   "mimetype": "text/x-python",
   "name": "python",
   "nbconvert_exporter": "python",
   "pygments_lexer": "ipython3",
   "version": "3.10.4"
  }
 },
 "nbformat": 4,
 "nbformat_minor": 5
}
